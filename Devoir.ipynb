{
 "cells": [
  {
   "cell_type": "markdown",
   "id": "5a52e343",
   "metadata": {
    "jp-MarkdownHeadingCollapsed": true
   },
   "source": [
    "# Exercice 2 - Titre du carnet\n",
    "# Data Science"
   ]
  },
  {
   "cell_type": "markdown",
   "id": "40d11ff2",
   "metadata": {},
   "source": [
    "# Exercice 3 - Introduction\n",
    "Ce carnet contient différents exercices de base en **science des données**.  \n",
    "Nous allons explorer des langages, des bibliothèques, des outils et quelques opérations simples en Python."
   ]
  },
  {
   "cell_type": "markdown",
   "id": "8c54580c",
   "metadata": {},
   "source": [
    "# Exercice 4 - Langages de la science des données\n",
    "- Python  \n",
    "- R  \n",
    "- SQL  \n",
    "- Scala  \n",
    "- Julia  \n",
    "- Java  \n",
    "- C++  "
   ]
  },
  {
   "cell_type": "markdown",
   "id": "c36765cc",
   "metadata": {},
   "source": [
    "# Exercice 5 - Bibliothèques de la science des données\n",
    "- NumPy  \n",
    "- Pandas  \n",
    "- Matplotlib  \n",
    "- Seaborn  \n",
    "- Scikit-learn  \n",
    "- TensorFlow  \n",
    "- PyTorch  "
   ]
  },
  {
   "cell_type": "markdown",
   "id": "7b2c0bd2",
   "metadata": {},
   "source": [
    "# Exercice 6 - Tableau des outils de la science des données\n",
    "\n",
    "| Outils              | Description                         |\n",
    "|---------------------|-------------------------------------|\n",
    "| Jupyter Notebook    | Environnement interactif            |\n",
    "| RStudio             | IDE pour R                          |\n",
    "| Apache Spark        | Traitement distribué des données    |\n",
    "| TensorFlow          | Bibliothèque de deep learning       |\n",
    "| GitHub              | Gestion de versions et collaboration|"
   ]
  },
  {
   "cell_type": "markdown",
   "id": "e97ded5b",
   "metadata": {},
   "source": [
    "# Exercice 7 - Exemples d'expressions arithmétiques\n",
    "- Addition : 2 + 3 = 5  \n",
    "- Soustraction : 10 - 4 = 6  \n",
    "- Multiplication : 3 × 7 = 21  \n",
    "- Division : 15 ÷ 3 = 5  \n",
    "- Puissance : 2^3 = 8  "
   ]
  },
  {
   "cell_type": "code",
   "execution_count": 1,
   "id": "ba4dd38b",
   "metadata": {},
   "outputs": [
    {
     "name": "stdout",
     "output_type": "stream",
     "text": [
      "Multiplication : 24\n",
      "Addition : 10\n"
     ]
    }
   ],
   "source": [
    "# Exercice 8 - Multiplier et additionner des nombres\n",
    "a = 6\n",
    "b = 4\n",
    "\n",
    "multiplication = a * b\n",
    "addition = a + b\n",
    "\n",
    "print(\"Multiplication :\", multiplication)\n",
    "print(\"Addition :\", addition)"
   ]
  },
  {
   "cell_type": "code",
   "execution_count": 2,
   "id": "bd298bec",
   "metadata": {},
   "outputs": [
    {
     "name": "stdout",
     "output_type": "stream",
     "text": [
      "150 minutes correspondent à 2.5 heures.\n"
     ]
    }
   ],
   "source": [
    "# Exercice 9 - Convertir les minutes en heures\n",
    "minutes = 150\n",
    "heures = minutes / 60\n",
    "\n",
    "print(minutes, \"minutes correspondent à\", heures, \"heures.\")"
   ]
  },
  {
   "cell_type": "markdown",
   "id": "63ea734d",
   "metadata": {},
   "source": [
    "# Exercice 10 - Objectifs\n",
    "- Comprendre les bases de la science des données  \n",
    "- Apprendre à utiliser Markdown dans un carnet  \n",
    "- Réaliser des calculs simples en Python  \n",
    "- Explorer les outils et bibliothèques utiles  "
   ]
  },
  {
   "cell_type": "markdown",
   "id": "3ffc3ddf",
   "metadata": {},
   "source": [
    "# Exercice 11 - Auteur\n",
    "Nom de l'auteur : **HIBA**"
   ]
  }
 ],
 "metadata": {
  "kernelspec": {
   "display_name": "Python 3 (ipykernel)",
   "language": "python",
   "name": "python3"
  },
  "language_info": {
   "codemirror_mode": {
    "name": "ipython",
    "version": 3
   },
   "file_extension": ".py",
   "mimetype": "text/x-python",
   "name": "python",
   "nbconvert_exporter": "python",
   "pygments_lexer": "ipython3",
   "version": "3.13.5"
  }
 },
 "nbformat": 4,
 "nbformat_minor": 5
}
